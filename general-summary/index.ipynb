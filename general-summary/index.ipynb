{
 "cells": [
  {
   "cell_type": "markdown",
   "id": "4c941a8c",
   "metadata": {},
   "source": [
    "# Resumo Geral do Dado"
   ]
  },
  {
   "cell_type": "code",
   "execution_count": null,
   "id": "1b3ea1cb",
   "metadata": {
    "tags": [
     "remove-cell"
    ]
   },
   "outputs": [],
   "source": [
    "import sys\n",
    "import warnings\n",
    "sys.path.append('..')\n",
    "from myst_nb import glue\n",
    "from global_configurations import *\n",
    "\n",
    "warnings.filterwarnings('ignore')\n",
    "pd.set_option('display.max_colwidth', None)\n",
    "pd.set_option('display.max_columns', None)\n",
    "pd.set_option('display.max_rows', None)\n",
    "\n",
    "conf_dict = read_config_file(DATASET_INFO_PATH)\n",
    "df = read_dataset(conf_dict, DATASET_PATH)\n",
    "\n",
    "df, numerical, categorical, categorical_dt, datetime, target = infer_column_types(df, conf_dict)"
   ]
  },
  {
   "cell_type": "code",
   "execution_count": null,
   "id": "d0644a81",
   "metadata": {
    "tags": [
     "remove-cell"
    ]
   },
   "outputs": [],
   "source": [
    "rows, columns = df.shape\n",
    "glue(\"rows\", rows)\n",
    "glue(\"columns\", columns)"
   ]
  },
  {
   "cell_type": "markdown",
   "id": "02b730b3",
   "metadata": {},
   "source": [
    "## Dimensão dos dados (linhas, colunas)\n",
    "O conjunto de dados possui {glue:text}`rows` linhas e {glue:text}`columns` colunas"
   ]
  },
  {
   "cell_type": "code",
   "execution_count": null,
   "id": "dfe94cef",
   "metadata": {
    "tags": [
     "remove-cell"
    ]
   },
   "outputs": [],
   "source": [
    "variable_types = pd.DataFrame({'Numéricas': [', '.join(numerical)],\n",
    "                               'Categóricas': [', '.join(categorical)], \n",
    "                               'Datas': [', '.join(datetime)],\n",
    "                               'Alvo':[target]}).T.rename(columns={0: 'Variáveis'})\n",
    "\n",
    "glue(\"variable_types\", variable_types)"
   ]
  },
  {
   "cell_type": "markdown",
   "id": "f252eb91",
   "metadata": {},
   "source": [
    "## Inferir tipos das variáveis\n",
    "```{glue:figure} variable_types\n",
    "\n",
    "Tabela com o tipo das variáveis com base no arquivo de configuração.\n",
    "```"
   ]
  },
  {
   "cell_type": "code",
   "execution_count": null,
   "id": "b8f40a89",
   "metadata": {
    "tags": [
     "remove-cell"
    ]
   },
   "outputs": [],
   "source": [
    "column_types = df[numerical+categorical+categorical_dt+[target]]\n",
    "column_types = column_types.dtypes.to_frame().reset_index().rename(columns={'index': 'Coluna', 0: 'Tipo'})\n",
    "column_types['Tipo'] = column_types.Tipo.apply(str)\n",
    "column_types = column_types.groupby('Tipo').agg({'Coluna': lambda x: ', '.join(sorted(x))})\n",
    "glue(\"column_types\", column_types)"
   ]
  },
  {
   "cell_type": "markdown",
   "id": "28a1295d",
   "metadata": {},
   "source": [
    "## Nome e tipo das colunas\n",
    "```{glue:figure} column_types\n",
    "\n",
    "Tabela com o tipo de dado das colunas no conjunto de dados.\n",
    "```"
   ]
  }
 ],
 "metadata": {
  "jupytext": {
   "cell_metadata_filter": "-all",
   "main_language": "python",
   "notebook_metadata_filter": "-all"
  },
  "kernelspec": {
   "display_name": "Python 3 (ipykernel)",
   "language": "python",
   "name": "python3"
  },
  "language_info": {
   "codemirror_mode": {
    "name": "ipython",
    "version": 3
   },
   "file_extension": ".py",
   "mimetype": "text/x-python",
   "name": "python",
   "nbconvert_exporter": "python",
   "pygments_lexer": "ipython3",
   "version": "3.7.12"
  }
 },
 "nbformat": 4,
 "nbformat_minor": 5
}
