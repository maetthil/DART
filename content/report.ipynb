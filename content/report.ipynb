{
 "cells":[
  {
   "cell_type":"code",
   "source":[
    "%%capture\n",
    "!pip install pingouin\n",
    "!pip install researchpy\n",
    "!pip install myst_nb"
   ],
   "execution_count":null,
   "outputs":[
    
   ],
   "metadata":{
    "datalore":{
     "type":"CODE",
     "hide_input_from_viewers":false,
     "hide_output_from_viewers":false
    }
   }
  },
  {
   "cell_type":"markdown",
   "source":[
    "# Data Analysis Reporting Tool\n",
    "## Resumo Geral do Dado"
   ],
   "attachments":{
    
   },
   "metadata":{
    "datalore":{
     "type":"MD",
     "hide_input_from_viewers":false,
     "hide_output_from_viewers":false
    }
   }
  },
  {
   "cell_type":"code",
   "source":[
    "import os\n",
    "import sys\n",
    "import glob\n",
    "import math\n",
    "import warnings\n",
    "import numpy as np\n",
    "import seaborn as sns\n",
    "import pingouin as pg\n",
    "import researchpy as rpy\n",
    "from myst_nb import glue\n",
    "from ipywidgets import widgets\n",
    "from ipywidgets import interact, interactive, fixed\n",
    "from collections import OrderedDict\n",
    "from IPython.display import display\n",
    "\n",
    "from global_configurations import *\n",
    "\n",
    "warnings.filterwarnings('ignore')\n",
    "pd.set_option('display.max_colwidth', None)\n",
    "pd.set_option('display.max_columns', None)\n",
    "pd.set_option('display.max_rows', None)\n",
    "\n",
    "# COMMENT THIS LINE BEFORE BUILD\n",
    "# DATASET_PATH = 'YOUR_DATASET_PATH'\n",
    "\n",
    "DATASET_INFO_PATH = glob.glob(os.path.join(DATASET_PATH, '*.yaml'))[0]\n",
    "conf_dict = read_config_file(DATASET_INFO_PATH)\n",
    "df = read_dataset(conf_dict, DATASET_PATH)\n",
    "\n",
    "df_original, numerical, categorical, categorical_dt, datetime, identifier, target = infer_column_types(df, conf_dict)\n",
    "\n",
    "SAMPLE_SIZE = 10000\n",
    "if len(df_original) > SAMPLE_SIZE:\n",
    "    df = df_original.sample(SAMPLE_SIZE)\n",
    "else: \n",
    "    df = df_original"
   ],
   "execution_count":null,
   "outputs":[
    
   ],
   "metadata":{
    "datalore":{
     "type":"CODE",
     "hide_input_from_viewers":false,
     "hide_output_from_viewers":false
    }
   }
  },
  {
   "cell_type":"markdown",
   "source":[
    "### Dimensão dos dados (linhas, colunas)"
   ],
   "attachments":{
    
   },
   "metadata":{
    "datalore":{
     "type":"MD",
     "hide_input_from_viewers":false,
     "hide_output_from_viewers":false
    }
   }
  },
  {
   "cell_type":"code",
   "source":[
    "rows, columns = df_original[numerical + categorical + datetime + identifier + [target]].shape\n",
    "glue(\"rows\", rows)\n",
    "glue(\"columns\", columns)"
   ],
   "execution_count":null,
   "outputs":[
    
   ],
   "metadata":{
    "datalore":{
     "type":"CODE",
     "hide_input_from_viewers":false,
     "hide_output_from_viewers":false
    }
   }
  },
  {
   "cell_type":"markdown",
   "source":[
    "### Inferir tipos das variáveis"
   ],
   "attachments":{
    
   },
   "metadata":{
    "datalore":{
     "type":"MD",
     "hide_input_from_viewers":false,
     "hide_output_from_viewers":false
    }
   }
  },
  {
   "cell_type":"code",
   "source":[
    "variable_types = pd.DataFrame({'Identificadores': [', '.join(identifier)],\n",
    "                               'Numéricas': [', '.join(numerical)],\n",
    "                               'Categóricas': [', '.join(categorical)], \n",
    "                               'Datas': [', '.join(datetime)],\n",
    "                               'Alvo':[target]}).T.rename(columns={0: 'Variáveis'})\n",
    "\n",
    "glue(\"variable_types\", variable_types)"
   ],
   "execution_count":null,
   "outputs":[
    
   ],
   "metadata":{
    "datalore":{
     "type":"CODE",
     "hide_input_from_viewers":false,
     "hide_output_from_viewers":false
    }
   }
  },
  {
   "cell_type":"markdown",
   "source":[
    "### Nome e tipo de dado das colunas"
   ],
   "attachments":{
    
   },
   "metadata":{
    "datalore":{
     "type":"MD",
     "hide_input_from_viewers":false,
     "hide_output_from_viewers":false
    }
   }
  },
  {
   "cell_type":"code",
   "source":[
    "column_types = df[numerical+categorical+categorical_dt+[target]]\n",
    "column_types = column_types.dtypes.to_frame().reset_index().rename(columns={'index': 'Coluna', 0: 'Tipo'})\n",
    "column_types['Tipo'] = column_types.Tipo.apply(str)\n",
    "column_types = column_types.groupby('Tipo').agg({'Coluna': lambda x: ', '.join(sorted(x))})\n",
    "glue(\"column_types\", column_types)"
   ],
   "execution_count":null,
   "outputs":[
    
   ],
   "metadata":{
    "datalore":{
     "type":"CODE",
     "hide_input_from_viewers":false,
     "hide_output_from_viewers":false
    }
   }
  },
  {
   "cell_type":"markdown",
   "source":[
    "## Resumo de Qualidade do Dado\n",
    "### Dados faltantes"
   ],
   "attachments":{
    
   },
   "metadata":{
    "datalore":{
     "type":"MD",
     "hide_input_from_viewers":false,
     "hide_output_from_viewers":false
    }
   }
  },
  {
   "cell_type":"code",
   "source":[
    "fig = plt.figure(figsize = (18,8))\n",
    "ax = sns.heatmap(df[numerical + categorical + datetime + [target]].isna(), yticklabels=1000, cbar=False)\n",
    "ax.set(title='Valores nulos por coluna')\n",
    "\n",
    "glue(\"missing_data_plot\", fig, display=False)"
   ],
   "execution_count":null,
   "outputs":[
    
   ],
   "metadata":{
    "datalore":{
     "type":"CODE",
     "hide_input_from_viewers":false,
     "hide_output_from_viewers":false
    }
   }
  },
  {
   "cell_type":"code",
   "source":[
    "data = df[numerical + categorical + datetime + [target]].isna().sum()\/df.shape[0]*100\n",
    "\n",
    "fig = plt.figure(figsize = (18,8))\n",
    "ax = sns.barplot(x='index', y=0, data=data.to_frame().reset_index())\n",
    "ax.set(xlabel='', ylabel='%', title='% de valores nulos por coluna')\n",
    "ax.tick_params(axis='x', rotation=90)\n",
    "ax.axhline(data.mean(), 0, 1, color='red', label=f'média={data.mean():.2f}%')\n",
    "ax.legend()\n",
    "\n",
    "glue(\"percent_missing_data_plot\", fig, display=False)"
   ],
   "execution_count":null,
   "outputs":[
    
   ],
   "metadata":{
    "datalore":{
     "type":"CODE",
     "hide_input_from_viewers":false,
     "hide_output_from_viewers":false
    }
   }
  },
  {
   "cell_type":"code",
   "source":[
    "has_na_values = ', '.join(data[data>0].index)\n",
    "\n",
    "glue(\"has_na_values\", has_na_values)"
   ],
   "execution_count":null,
   "outputs":[
    
   ],
   "metadata":{
    "datalore":{
     "type":"CODE",
     "hide_input_from_viewers":false,
     "hide_output_from_viewers":false
    }
   }
  },
  {
   "cell_type":"markdown",
   "source":[
    "### Linhas duplicadas"
   ],
   "attachments":{
    
   },
   "metadata":{
    "datalore":{
     "type":"MD",
     "hide_input_from_viewers":false,
     "hide_output_from_viewers":false
    }
   }
  },
  {
   "cell_type":"code",
   "source":[
    "duplicated_rows = df.duplicated().sum()\n",
    "\n",
    "glue(\"duplicated_rows\", duplicated_rows)"
   ],
   "execution_count":null,
   "outputs":[
    
   ],
   "metadata":{
    "datalore":{
     "type":"CODE",
     "hide_input_from_viewers":false,
     "hide_output_from_viewers":false
    }
   }
  },
  {
   "cell_type":"markdown",
   "source":[
    "## Variável Alvo"
   ],
   "attachments":{
    
   },
   "metadata":{
    "datalore":{
     "type":"MD",
     "hide_input_from_viewers":false,
     "hide_output_from_viewers":false
    }
   }
  },
  {
   "cell_type":"code",
   "source":[
    "fig, axes = plt.subplots(1, 2, figsize=(12, 4))\n",
    "data = df[[target]].value_counts().reset_index()\n",
    "data = data.rename(columns={0: 'value'})\n",
    "\n",
    "sns.barplot(y='value', x=target, data=data, ax=axes[0], palette='muted')\n",
    "colors = [sns.color_palette('muted')[0],\n",
    "          sns.color_palette('muted')[1]]\n",
    "data.plot.pie(y='value', ax=axes[1], legend=True, autopct='%1.1f%%', \n",
    "              explode=(0, 0.1), shadow=True, startangle=0, colors=colors)\n",
    "axes[1].set(ylabel=target)\n",
    "\n",
    "glue(\"target_plot\", fig, display=False)"
   ],
   "execution_count":null,
   "outputs":[
    
   ],
   "metadata":{
    "datalore":{
     "type":"CODE",
     "hide_input_from_viewers":false,
     "hide_output_from_viewers":false
    }
   }
  },
  {
   "cell_type":"markdown",
   "source":[
    "## Variáveis Individuais\n",
    "### Numéricas"
   ],
   "attachments":{
    
   },
   "metadata":{
    "datalore":{
     "type":"MD",
     "hide_input_from_viewers":false,
     "hide_output_from_viewers":false
    }
   }
  },
  {
   "cell_type":"code",
   "source":[
    "numerical_stats = df[numerical].describe().T.sort_index()\n",
    "numerical_stats.rename(columns={'count': 'Qtd', \n",
    "                                'mean': 'Média',\n",
    "                                'std': 'Desvio Padrão', \n",
    "                                'min': 'Min', 'max': 'Max'}, inplace=True)\n",
    "glue(\"numerical_stats\", numerical_stats)"
   ],
   "execution_count":null,
   "outputs":[
    
   ],
   "metadata":{
    "datalore":{
     "type":"CODE",
     "hide_input_from_viewers":false,
     "hide_output_from_viewers":false
    }
   }
  },
  {
   "cell_type":"code",
   "source":[
    "fig = plt.figure(figsize = (16, 7))\n",
    "\n",
    "for idx, var in enumerate(numerical, 1):\n",
    "    ax = fig.add_subplot(2, 4, idx)\n",
    "    sns.histplot(df[var], ax=ax, kde=True)\n",
    "    ax.set(ylabel='')\n",
    "    \n",
    "fig.suptitle('Histograma das variáveis numéricas')\n",
    "fig.tight_layout()\n",
    "\n",
    "glue(\"numerical_hist_plot\", fig, display=False)"
   ],
   "execution_count":null,
   "outputs":[
    
   ],
   "metadata":{
    "datalore":{
     "type":"CODE",
     "hide_input_from_viewers":false,
     "hide_output_from_viewers":false
    }
   }
  },
  {
   "cell_type":"code",
   "source":[
    "# TODO: QQPlot para variáveis numéricas"
   ],
   "execution_count":null,
   "outputs":[
    
   ],
   "metadata":{
    "datalore":{
     "type":"CODE",
     "hide_input_from_viewers":false,
     "hide_output_from_viewers":false
    }
   }
  },
  {
   "cell_type":"code",
   "source":[
    "fig = plt.figure(figsize = (16, 7))\n",
    "\n",
    "for idx, var in enumerate(numerical, 1):\n",
    "    ax = fig.add_subplot(2, 4, idx)\n",
    "    sns.boxplot(y=var, data=df[[var]], ax=ax, palette='deep')\n",
    "    ax.set(ylabel='', xlabel=var)\n",
    "    \n",
    "fig.suptitle('Boxplot das variáveis numéricas')\n",
    "fig.tight_layout()\n",
    "\n",
    "glue(\"numerical_box_plot\", fig, display=False)"
   ],
   "execution_count":null,
   "outputs":[
    
   ],
   "metadata":{
    "datalore":{
     "type":"CODE",
     "hide_input_from_viewers":false,
     "hide_output_from_viewers":false
    }
   }
  },
  {
   "cell_type":"markdown",
   "source":[
    "### Categóricas"
   ],
   "attachments":{
    
   },
   "metadata":{
    "datalore":{
     "type":"MD",
     "hide_input_from_viewers":false,
     "hide_output_from_viewers":false
    }
   }
  },
  {
   "cell_type":"code",
   "source":[
    "categorical_stats = df[categorical].astype('category').describe().T.sort_index()\n",
    "categorical_stats.rename(columns={'count': 'Qtd', \n",
    "                                  'unique': 'Único',\n",
    "                                  'top': 'Moda', \n",
    "                                  'freq': 'Frequência'}, inplace=True)\n",
    "\n",
    "glue(\"categorical_stats\", categorical_stats)"
   ],
   "execution_count":null,
   "outputs":[
    
   ],
   "metadata":{
    "datalore":{
     "type":"CODE",
     "hide_input_from_viewers":false,
     "hide_output_from_viewers":false
    }
   }
  },
  {
   "cell_type":"code",
   "source":[
    "fig = plt.figure(figsize=(10, 5))\n",
    "data = df[categorical].nunique().to_frame(name='Qtd')\n",
    "data = data.reset_index().sort_values(by='Qtd', ascending=False)\n",
    "\n",
    "ax = sns.barplot(y='Qtd', x='index', data=data, palette='magma_r')\n",
    "ax.set(xlabel='', title='Quantidade de valores únicos (categorias)')\n",
    "ax.tick_params(axis='x', rotation=90)\n",
    "\n",
    "glue(\"categorical_unique_plot\", fig, display=False)"
   ],
   "execution_count":null,
   "outputs":[
    
   ],
   "metadata":{
    "datalore":{
     "type":"CODE",
     "hide_input_from_viewers":false,
     "hide_output_from_viewers":false
    }
   }
  },
  {
   "cell_type":"code",
   "source":[
    "fig = plt.figure(figsize=(15, 35))\n",
    "\n",
    "for idx, var in enumerate(categorical, 1):\n",
    "    ax = fig.add_subplot(10, 4, idx)\n",
    "    data = df[var].value_counts()[:10]\n",
    "    data = data.to_frame().reset_index()\n",
    "    data.columns = ['categoria', 'qtd']\n",
    "    data['qtd'] = data['qtd'].apply(lambda x: x\/sum(data['qtd'])) \n",
    "    data.categoria = data.categoria.apply(lambda x: f\"{x[:15]}...\" if isinstance(x, str) else x)\n",
    "    \n",
    "    sns.barplot(x='categoria', y='qtd', data=data, ax=ax, palette=sns.color_palette(\"husl\", 8))\n",
    "    ax.set_xticklabels(ax.get_xticklabels(), rotation = 90)\n",
    "    ax.set(xlabel=\"\", title=var)\n",
    "    \n",
    "fig.suptitle('Top 10 categorias por variável', y=1)    \n",
    "fig.tight_layout()\n",
    "\n",
    "glue(\"categorical_top_categories_plot\", fig, display=False)"
   ],
   "execution_count":null,
   "outputs":[
    
   ],
   "metadata":{
    "datalore":{
     "type":"CODE",
     "hide_input_from_viewers":false,
     "hide_output_from_viewers":false
    }
   }
  },
  {
   "cell_type":"markdown",
   "source":[
    "### Data"
   ],
   "attachments":{
    
   },
   "metadata":{
    "datalore":{
     "type":"MD",
     "hide_input_from_viewers":false,
     "hide_output_from_viewers":false
    }
   }
  },
  {
   "cell_type":"code",
   "source":[
    "datetime_stats = df_original[datetime].describe().T.sort_index()\n",
    "datetime_stats.rename(columns={'count': 'Qtd', \n",
    "                               'unique': 'Único',\n",
    "                               'top': 'Moda', \n",
    "                               'freq': 'Frequência',\n",
    "                               'first': 'Primeiro',\n",
    "                               'last': 'Último'}, inplace=True)\n",
    "\n",
    "glue(\"datetime_stats\", datetime_stats)"
   ],
   "execution_count":null,
   "outputs":[
    
   ],
   "metadata":{
    "datalore":{
     "type":"CODE",
     "hide_input_from_viewers":false,
     "hide_output_from_viewers":false
    }
   }
  },
  {
   "cell_type":"code",
   "source":[
    "categorical_year = list(get_datetime_var_names(datetime, 'year'))\n",
    "categorical_month = list(get_datetime_var_names(datetime, 'month'))\n",
    "categorical_week_number = list(get_datetime_var_names(datetime, 'week_number'))\n",
    "categorical_day = list(get_datetime_var_names(datetime, 'day'))\n",
    "categorical_day_week = list(get_datetime_var_names(datetime, 'day_week'))\n",
    "categorical_hour = list(get_datetime_var_names(datetime, 'hour'))\n",
    "categorical_minute = list(get_datetime_var_names(datetime, 'minute'))\n",
    "categorical_second = list(get_datetime_var_names(datetime, 'second'))"
   ],
   "execution_count":null,
   "outputs":[
    
   ],
   "metadata":{
    "datalore":{
     "type":"CODE",
     "hide_input_from_viewers":false,
     "hide_output_from_viewers":false
    }
   }
  },
  {
   "cell_type":"markdown",
   "source":[
    "#### Ano"
   ],
   "attachments":{
    
   },
   "metadata":{
    "datalore":{
     "type":"MD",
     "hide_input_from_viewers":false,
     "hide_output_from_viewers":false
    }
   }
  },
  {
   "cell_type":"code",
   "source":[
    "fig = plt.figure(figsize=(15, 8))\n",
    "\n",
    "for idx, var in enumerate(categorical_year, 1):\n",
    "    ax = fig.add_subplot(3, 4, idx)\n",
    "    data = df[var].value_counts()\n",
    "    data = data.to_frame().reset_index()\n",
    "    data.columns = ['categoria', 'qtd']\n",
    "    data['qtd'].apply(lambda x: x\/sum(data['qtd'])) \n",
    "    \n",
    "    sns.barplot(x='categoria', y='qtd', data=data, ax=ax, palette='flare')\n",
    "    ax.set_xticklabels(ax.get_xticklabels(), rotation = 90)\n",
    "    ax.set(xlabel=\"\", title=var)\n",
    "\n",
    "fig.tight_layout()\n",
    "\n",
    "glue(\"categoricaldt_year_plot\", fig, display=False)"
   ],
   "execution_count":null,
   "outputs":[
    
   ],
   "metadata":{
    "datalore":{
     "type":"CODE",
     "hide_input_from_viewers":false,
     "hide_output_from_viewers":false
    }
   }
  },
  {
   "cell_type":"markdown",
   "source":[
    "#### Mês"
   ],
   "attachments":{
    
   },
   "metadata":{
    "datalore":{
     "type":"MD",
     "hide_input_from_viewers":false,
     "hide_output_from_viewers":false
    }
   }
  },
  {
   "cell_type":"code",
   "source":[
    "fig = plt.figure(figsize=(15, 7))\n",
    "\n",
    "for idx, var in enumerate(categorical_month, 1):\n",
    "    ax = fig.add_subplot(3, 4, idx)\n",
    "    data = df[var].value_counts()\n",
    "    data = data.to_frame().reset_index()\n",
    "    data.columns = ['categoria', 'qtd']\n",
    "    data['qtd'].apply(lambda x: x\/sum(data['qtd'])) \n",
    "    \n",
    "    sns.barplot(x='categoria', y='qtd', data=data, ax=ax, palette='flare')\n",
    "    ax.set(xlabel=\"\", title=var)\n",
    "\n",
    "fig.tight_layout()\n",
    "\n",
    "glue(\"categoricaldt_month_plot\", fig, display=False)"
   ],
   "execution_count":null,
   "outputs":[
    
   ],
   "metadata":{
    "datalore":{
     "type":"CODE",
     "hide_input_from_viewers":false,
     "hide_output_from_viewers":false
    }
   }
  },
  {
   "cell_type":"markdown",
   "source":[
    "#### Semana"
   ],
   "attachments":{
    
   },
   "metadata":{
    "datalore":{
     "type":"MD",
     "hide_input_from_viewers":false,
     "hide_output_from_viewers":false
    }
   }
  },
  {
   "cell_type":"code",
   "source":[
    "fig = plt.figure(figsize=(15, 7))\n",
    "\n",
    "for idx, var in enumerate(categorical_week_number, 1):\n",
    "    ax = fig.add_subplot(3, 4, idx)\n",
    "    data = df[var].value_counts()\n",
    "    data = data.to_frame().reset_index()\n",
    "    data.columns = ['categoria', 'qtd']\n",
    "    data['qtd'].apply(lambda x: x\/sum(data['qtd'])) \n",
    "    \n",
    "    sns.barplot(x='categoria', y='qtd', data=data, ax=ax, palette='flare')\n",
    "    ax.set(xlabel=\"\", title=var)\n",
    "\n",
    "fig.tight_layout()\n",
    "\n",
    "glue(\"categoricaldt_week_plot\", fig, display=False)"
   ],
   "execution_count":null,
   "outputs":[
    
   ],
   "metadata":{
    "datalore":{
     "type":"CODE",
     "hide_input_from_viewers":false,
     "hide_output_from_viewers":false
    }
   }
  },
  {
   "cell_type":"markdown",
   "source":[
    "#### Dia"
   ],
   "attachments":{
    
   },
   "metadata":{
    "datalore":{
     "type":"MD",
     "hide_input_from_viewers":false,
     "hide_output_from_viewers":false
    }
   }
  },
  {
   "cell_type":"code",
   "source":[
    "fig = plt.figure(figsize=(15, 7))\n",
    "\n",
    "for idx, var in enumerate(categorical_day, 1):\n",
    "    ax = fig.add_subplot(3, 4, idx)\n",
    "    data = df[var].value_counts()\n",
    "    data = data.to_frame().reset_index()\n",
    "    data.columns = ['categoria', 'qtd']\n",
    "    data['qtd'].apply(lambda x: x\/sum(data['qtd'])) \n",
    "    \n",
    "    sns.barplot(x='categoria', y='qtd', data=data, ax=ax, palette='flare')\n",
    "    ax.set(xlabel=\"\", title=var)\n",
    "\n",
    "fig.tight_layout()\n",
    "\n",
    "glue(\"categoricaldt_day_plot\", fig, display=False)"
   ],
   "execution_count":null,
   "outputs":[
    
   ],
   "metadata":{
    "datalore":{
     "type":"CODE",
     "hide_input_from_viewers":false,
     "hide_output_from_viewers":false
    }
   }
  },
  {
   "cell_type":"markdown",
   "source":[
    "#### Dia da semana"
   ],
   "attachments":{
    
   },
   "metadata":{
    "datalore":{
     "type":"MD",
     "hide_input_from_viewers":false,
     "hide_output_from_viewers":false
    }
   }
  },
  {
   "cell_type":"code",
   "source":[
    "fig = plt.figure(figsize=(15, 7))\n",
    "\n",
    "for idx, var in enumerate(categorical_day_week, 1):\n",
    "    ax = fig.add_subplot(3, 4, idx)\n",
    "    data = df[var].value_counts()\n",
    "    data = data.to_frame().reset_index()\n",
    "    data.columns = ['categoria', 'qtd']\n",
    "    data['qtd'].apply(lambda x: x\/sum(data['qtd'])) \n",
    "    \n",
    "    sns.barplot(x='categoria', y='qtd', data=data, ax=ax, palette='flare')\n",
    "    ax.set(xlabel=\"\", title=var)\n",
    "\n",
    "fig.tight_layout()\n",
    "\n",
    "glue(\"categoricaldt_week_day_plot\", fig, display=False)"
   ],
   "execution_count":null,
   "outputs":[
    
   ],
   "metadata":{
    "datalore":{
     "type":"CODE",
     "hide_input_from_viewers":false,
     "hide_output_from_viewers":false
    }
   }
  },
  {
   "cell_type":"markdown",
   "source":[
    "#### Hora"
   ],
   "attachments":{
    
   },
   "metadata":{
    "datalore":{
     "type":"MD",
     "hide_input_from_viewers":false,
     "hide_output_from_viewers":false
    }
   }
  },
  {
   "cell_type":"code",
   "source":[
    "fig = plt.figure(figsize=(15, 7))\n",
    "\n",
    "for idx, var in enumerate(categorical_hour, 1):\n",
    "    ax = fig.add_subplot(3, 4, idx)\n",
    "    data = df[var].value_counts()\n",
    "    data = data.to_frame().reset_index()\n",
    "    data.columns = ['categoria', 'qtd']\n",
    "    data['qtd'].apply(lambda x: x\/sum(data['qtd'])) \n",
    "    \n",
    "    sns.barplot(x='categoria', y='qtd', data=data, ax=ax, palette='flare')\n",
    "    ax.set(xlabel=\"\", title=var)\n",
    "\n",
    "fig.tight_layout()\n",
    "\n",
    "glue(\"categoricaldt_hour_plot\", fig, display=False)"
   ],
   "execution_count":null,
   "outputs":[
    
   ],
   "metadata":{
    "datalore":{
     "type":"CODE",
     "hide_input_from_viewers":false,
     "hide_output_from_viewers":false
    }
   }
  },
  {
   "cell_type":"markdown",
   "source":[
    "#### Minuto"
   ],
   "attachments":{
    
   },
   "metadata":{
    "datalore":{
     "type":"MD",
     "hide_input_from_viewers":false,
     "hide_output_from_viewers":false
    }
   }
  },
  {
   "cell_type":"code",
   "source":[
    "fig = plt.figure(figsize=(15, 7))\n",
    "\n",
    "for idx, var in enumerate(categorical_minute, 1):\n",
    "    ax = fig.add_subplot(3, 4, idx)\n",
    "    data = df[var].value_counts()\n",
    "    data = data.to_frame().reset_index()\n",
    "    data.columns = ['categoria', 'qtd']\n",
    "    data['qtd'].apply(lambda x: x\/sum(data['qtd'])) \n",
    "    \n",
    "    sns.barplot(x='categoria', y='qtd', data=data, ax=ax, palette='flare')\n",
    "    ax.set(xlabel=\"\", title=var)\n",
    "\n",
    "fig.tight_layout()\n",
    "\n",
    "glue(\"categoricaldt_minute_plot\", fig, display=False)"
   ],
   "execution_count":null,
   "outputs":[
    
   ],
   "metadata":{
    "datalore":{
     "type":"CODE",
     "hide_input_from_viewers":false,
     "hide_output_from_viewers":false
    }
   }
  },
  {
   "cell_type":"markdown",
   "source":[
    "#### Segundo"
   ],
   "attachments":{
    
   },
   "metadata":{
    "datalore":{
     "type":"MD",
     "hide_input_from_viewers":false,
     "hide_output_from_viewers":false
    }
   }
  },
  {
   "cell_type":"code",
   "source":[
    "fig = plt.figure(figsize=(15, 7))\n",
    "\n",
    "for idx, var in enumerate(categorical_second, 1):\n",
    "    ax = fig.add_subplot(3, 4, idx)\n",
    "    data = df[var].value_counts()\n",
    "    data = data.to_frame().reset_index()\n",
    "    data.columns = ['categoria', 'qtd']\n",
    "    data['qtd'].apply(lambda x: x\/sum(data['qtd'])) \n",
    "    \n",
    "    sns.barplot(x='categoria', y='qtd', data=data, ax=ax, palette='flare')\n",
    "    ax.set(xlabel=\"\", title=var)\n",
    "\n",
    "fig.tight_layout()\n",
    "\n",
    "glue(\"categoricaldt_week_second_plot\", fig, display=False)"
   ],
   "execution_count":null,
   "outputs":[
    
   ],
   "metadata":{
    "datalore":{
     "type":"CODE",
     "hide_input_from_viewers":false,
     "hide_output_from_viewers":false
    }
   }
  },
  {
   "cell_type":"markdown",
   "source":[
    "## Classificação de Variáveis\n",
    "### Top 40 variáveis numéricas com maior associação com o alvo"
   ],
   "attachments":{
    
   },
   "metadata":{
    "datalore":{
     "type":"MD",
     "hide_input_from_viewers":false,
     "hide_output_from_viewers":false
    }
   }
  },
  {
   "cell_type":"code",
   "source":[
    "eta_sq = {}\n",
    "for v in numerical:\n",
    "    aov = pg.anova(dv=v, between=target, data=df, detailed=True)\n",
    "    if 'np2' not in aov.columns:\n",
    "        eta_sq[v] = 0.0\n",
    "        continue\n",
    "    eta_sq[v] = aov['np2'][0]\n",
    "eta_sq = sorted(eta_sq.items(), key=operator.itemgetter(1), reverse=True)\n",
    "\n",
    "fig = plt.figure(figsize=(15, 5))\n",
    "ax = sns.barplot(x='Variável', y='Eta-Squared', data=pd.DataFrame(eta_sq, columns=['Variável', 'Eta-Squared']), palette='magma_r')\n",
    "ax.tick_params(axis='x', rotation=90)\n",
    "\n",
    "glue(\"numerical_eta_sq_plot\", fig, display=False)"
   ],
   "execution_count":null,
   "outputs":[
    
   ],
   "metadata":{
    "datalore":{
     "type":"CODE",
     "hide_input_from_viewers":false,
     "hide_output_from_viewers":false
    }
   }
  },
  {
   "cell_type":"markdown",
   "source":[
    "### Top 40 variáveis categóricas com maior associação com o alvo"
   ],
   "attachments":{
    
   },
   "metadata":{
    "datalore":{
     "type":"MD",
     "hide_input_from_viewers":false,
     "hide_output_from_viewers":false
    }
   }
  },
  {
   "cell_type":"code",
   "source":[
    "cramers_v = {}\n",
    "# TODO Identifier variables\n",
    "for var in categorical:\n",
    "    crosstab, res = rpy.crosstab(df[target], \n",
    "                                 df[var], test='chi-square')\n",
    "    cramers_v[var] = res['results'][2]\n",
    "cramers_v = sorted(cramers_v.items(), key=operator.itemgetter(1), reverse=True)\n",
    "\n",
    "fig = plt.figure(figsize=(15, 5))\n",
    "ax = sns.barplot(x='Variável', y='Cramers V', data=pd.DataFrame(cramers_v, columns=['Variável', 'Cramers V']).iloc[:40], palette='magma_r')\n",
    "ax.tick_params(axis='x', rotation=90)\n",
    "\n",
    "glue(\"categorical_cramers_v_plot\", fig, display=False)"
   ],
   "execution_count":null,
   "outputs":[
    
   ],
   "metadata":{
    "datalore":{
     "type":"CODE",
     "hide_input_from_viewers":false,
     "hide_output_from_viewers":false
    }
   }
  },
  {
   "cell_type":"code",
   "source":[
    "cramers_v = {}\n",
    "# TODO Identifier variables\n",
    "if len(categorical_dt) > 0:\n",
    "    for var in categorical_dt:\n",
    "        crosstab, res = rpy.crosstab(df[target], \n",
    "                                     df[var], test='chi-square')\n",
    "        cramers_v[var] = res['results'][2]\n",
    "    cramers_v = sorted(cramers_v.items(), key=operator.itemgetter(1), reverse=True)\n",
    "\n",
    "    fig = plt.figure(figsize=(15, 5))\n",
    "    ax = sns.barplot(x='Variável', y='Cramers V', data=pd.DataFrame(cramers_v, columns=['Variável', 'Cramers V']).iloc[:40], palette='magma_r')\n",
    "    ax.tick_params(axis='x', rotation=90)\n",
    "\n",
    "    glue(\"categorical_dt_cramers_v_plot\", fig, display=False)"
   ],
   "execution_count":null,
   "outputs":[
    
   ],
   "metadata":{
    "datalore":{
     "type":"CODE",
     "hide_input_from_viewers":false,
     "hide_output_from_viewers":false
    }
   }
  },
  {
   "cell_type":"markdown",
   "source":[
    "## Relação entre variável explicavel e de resposta\n",
    "### Numéricas"
   ],
   "attachments":{
    
   },
   "metadata":{
    "datalore":{
     "type":"MD",
     "hide_input_from_viewers":false,
     "hide_output_from_viewers":false
    }
   }
  },
  {
   "cell_type":"code",
   "source":[
    "methods = ['pearson', 'kendall', 'spearman']\n",
    "\n",
    "fig = plt.figure(figsize=(15, 4))\n",
    "for idx, m in enumerate(methods, 1):\n",
    "    ax = fig.add_subplot(1, 3, idx)\n",
    "    correlation_matrix(df[numerical], numerical, m, fig, ax)\n",
    "    ax.tick_params(axis='x', rotation=90)\n",
    "    ax.set(title=m)\n",
    "fig.tight_layout()\n",
    "\n",
    "glue(\"numerical_corr_matrix_plot\", fig, display=False)"
   ],
   "execution_count":null,
   "outputs":[
    
   ],
   "metadata":{
    "datalore":{
     "type":"CODE",
     "hide_input_from_viewers":false,
     "hide_output_from_viewers":false
    }
   }
  },
  {
   "cell_type":"code",
   "source":[
    "# TODO: Explicar a relação entre as variáveis com regressão linear\n",
    "def scatter_plot(data, x, y, target):\n",
    "    fig, ax = plt.subplots(1)\n",
    "    cols = [x] if x == y else [x, y]\n",
    "    data = data[cols + [target]].fillna(0)\n",
    "    return sns.scatterplot(data=data, x=x, y=y, ax=ax, hue=target)\n",
    "\n",
    "w1, w2 = None, None\n",
    "\n",
    "cols_list = numerical\n",
    "    \n",
    "w1 = widgets.Dropdown(\n",
    "    options=cols_list,\n",
    "    value=cols_list[0],\n",
    "    description='Variável 1:'\n",
    ")\n",
    "w2 = widgets.Dropdown(\n",
    "    options=cols_list,\n",
    "    value=cols_list[1],\n",
    "    description='Variável 2:'\n",
    ")\n",
    "\n",
    "i = interactive(scatter_plot, data=fixed(df), x=w1, y=w2, target=fixed(target))\n",
    "hbox = widgets.HBox(i.children)\n",
    "display(hbox)"
   ],
   "execution_count":null,
   "outputs":[
    
   ],
   "metadata":{
    "datalore":{
     "type":"CODE",
     "hide_input_from_viewers":false,
     "hide_output_from_viewers":false
    }
   }
  },
  {
   "cell_type":"markdown",
   "source":[
    "### Categóricas"
   ],
   "attachments":{
    
   },
   "metadata":{
    "datalore":{
     "type":"MD",
     "hide_input_from_viewers":false,
     "hide_output_from_viewers":false
    }
   }
  },
  {
   "cell_type":"code",
   "source":[
    "fig = plt.figure(figsize=(15, 65))\n",
    "\n",
    "def supress_category_label(lbl, size=10):\n",
    "    if not isinstance(lbl, str):\n",
    "        return lbl\n",
    "    if len(lbl) < size:\n",
    "        return lbl\n",
    "    return f\"{lbl[:size]}...\"\n",
    "\n",
    "for idx, var in enumerate(categorical, 1):\n",
    "    ax = fig.add_subplot(14, 3, idx)\n",
    "    data = df[[target, var]] \n",
    "    data[var] = data[var].apply(supress_category_label)\n",
    "   \n",
    "    mosaic_plot(data=data, x=target, y=var, ax=ax)\n",
    "\n",
    "fig.tight_layout()\n",
    "\n",
    "glue(\"categorical_mosaic_plot\", fig, display=False)"
   ],
   "execution_count":null,
   "outputs":[
    
   ],
   "metadata":{
    "datalore":{
     "type":"CODE",
     "hide_input_from_viewers":false,
     "hide_output_from_viewers":false
    }
   }
  },
  {
   "cell_type":"code",
   "source":[
    "w1, w2 = None, None\n",
    "\n",
    "if target:\n",
    "    cols_list = [target] + categorical \n",
    "    cols_list = list(OrderedDict.fromkeys(cols_list)) \n",
    "else:\n",
    "    cols_list = conf_dict['CategoricalColumns']\n",
    "    \n",
    "w1 = widgets.Dropdown(\n",
    "    options=cols_list,\n",
    "    value=cols_list[0],\n",
    "    description='Variável 1:'\n",
    ")\n",
    "w2 = widgets.Dropdown(\n",
    "    options=cols_list,\n",
    "    value=cols_list[1],\n",
    "    description='Variável 2:'\n",
    ")\n",
    "\n",
    "i = interactive(interactive_mosaic_plot, data=fixed(df), x=w1, y=w2)\n",
    "hbox = widgets.HBox(i.children)\n",
    "display(hbox)"
   ],
   "execution_count":null,
   "outputs":[
    
   ],
   "metadata":{
    "datalore":{
     "type":"CODE",
     "hide_input_from_viewers":false,
     "hide_output_from_viewers":false
    }
   }
  },
  {
   "cell_type":"markdown",
   "source":[
    "### Numéricas e Categóricas"
   ],
   "attachments":{
    
   },
   "metadata":{
    "datalore":{
     "type":"MD",
     "hide_input_from_viewers":false,
     "hide_output_from_viewers":false
    }
   }
  },
  {
   "cell_type":"code",
   "source":[
    "fig = plt.figure(figsize=(12, 7))\n",
    "\n",
    "l = len(numerical)\n",
    "for idx, v in enumerate(numerical, 1):\n",
    "    ax = fig.add_subplot(math.ceil(l\/3), 3, idx)\n",
    "    data = df[[v] + [target]].dropna()\n",
    "    \n",
    "    sns.boxplot(data=data, y=v, x=target, palette='magma')\n",
    "\n",
    "fig.suptitle('Boxplot variáveis numéricas por alvo')\n",
    "fig.tight_layout()\n",
    "\n",
    "glue(\"numcat_boxplot\", fig, display=False)"
   ],
   "execution_count":null,
   "outputs":[
    
   ],
   "metadata":{
    "datalore":{
     "type":"CODE",
     "hide_input_from_viewers":false,
     "hide_output_from_viewers":false
    }
   }
  },
  {
   "cell_type":"code",
   "source":[
    "pairgrid = sns.pairplot(df[numerical+ [target]].dropna(), hue=target, plot_kws={'alpha':0.5}, palette='magma')\n",
    "fig = pairgrid.fig\n",
    "sns.despine()\n",
    "\n",
    "fig.suptitle('Matriz de dispersão entre variáveis numéricas separadas pelo alvo')\n",
    "fig.tight_layout()\n",
    "\n",
    "glue(\"numcat_scattermatrix\", fig, display=False)"
   ],
   "execution_count":null,
   "outputs":[
    
   ],
   "metadata":{
    "datalore":{
     "type":"CODE",
     "hide_input_from_viewers":false,
     "hide_output_from_viewers":false
    }
   }
  }
 ],
 "metadata":{
  "datalore":{
   "version":1,
   "computation_mode":"JUPYTER",
   "package_manager":"pip",
   "base_environment":"default",
   "packages":[
    
   ]
  }
 },
 "nbformat":4,
 "nbformat_minor":4
}