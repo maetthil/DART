{
 "cells": [
  {
   "cell_type": "markdown",
   "id": "8b986a90",
   "metadata": {},
   "source": [
    "# Relação entre variável explicativa e de resposta"
   ]
  },
  {
   "cell_type": "code",
   "execution_count": null,
   "id": "61d27b3f",
   "metadata": {
    "tags": [
     "remove-cell"
    ]
   },
   "outputs": [],
   "source": [
    "import sys\n",
    "import warnings\n",
    "sys.path.append('..')\n",
    "import seaborn as sns\n",
    "from myst_nb import glue\n",
    "from global_configurations import *\n",
    "from ipywidgets import widgets\n",
    "from ipywidgets import interact, interactive, fixed\n",
    "from collections import OrderedDict\n",
    "from IPython.display import display\n",
    "\n",
    "warnings.filterwarnings('ignore')\n",
    "pd.set_option('display.max_colwidth', None)\n",
    "pd.set_option('display.max_columns', None)\n",
    "pd.set_option('display.max_rows', None)\n",
    "\n",
    "conf_dict = read_config_file(DATASET_INFO_PATH)\n",
    "df = read_dataset(conf_dict, DATASET_PATH)\n",
    "\n",
    "df, numerical, categorical, categorical_dt, datetime, target = infer_column_types(df, conf_dict)"
   ]
  },
  {
   "cell_type": "code",
   "execution_count": null,
   "id": "4a37389d",
   "metadata": {
    "tags": [
     "remove-cell"
    ]
   },
   "outputs": [],
   "source": [
    "methods = ['pearson', 'kendall', 'spearman']\n",
    "\n",
    "fig = plt.figure(figsize=(15, 4))\n",
    "for idx, m in enumerate(methods, 1):\n",
    "    ax = fig.add_subplot(1, 3, idx)\n",
    "    correlation_matrix(df[numerical], numerical, m, fig, ax)\n",
    "    ax.tick_params(axis='x', rotation=90)\n",
    "    ax.set(title=m)\n",
    "fig.tight_layout()\n",
    "\n",
    "glue(\"numerical_corr_matrix_plot\", fig, display=False)"
   ]
  },
  {
   "cell_type": "markdown",
   "id": "96b97643",
   "metadata": {},
   "source": [
    "## Numérica\n",
    "```{glue:} numerical_corr_matrix_plot\n",
    "```\n",
    "```{glue:} numerical_relations\n",
    "```"
   ]
  },
  {
   "cell_type": "code",
   "execution_count": null,
   "id": "64a70fd3",
   "metadata": {
    "tags": [
     "remove-input"
    ]
   },
   "outputs": [],
   "source": [
    "# TODO: Explicar a relação entre as variáveis com regressão linear\n",
    "def scatter_plot(data, x, y, target):\n",
    "    fig, ax = plt.subplots(1)\n",
    "    cols = [x] if x == y else [x, y]\n",
    "    data = data[cols + [target]].fillna(0)\n",
    "    return sns.scatterplot(data=data, x=x, y=y, ax=ax, hue=target)\n",
    "\n",
    "w1, w2 = None, None\n",
    "\n",
    "cols_list = numerical\n",
    "    \n",
    "w1 = widgets.Dropdown(\n",
    "    options=cols_list,\n",
    "    value=cols_list[0],\n",
    "    description='Variável 1:'\n",
    ")\n",
    "w2 = widgets.Dropdown(\n",
    "    options=cols_list,\n",
    "    value=cols_list[1],\n",
    "    description='Variável 2:'\n",
    ")\n",
    "\n",
    "i = interactive(scatter_plot, data=fixed(df), x=w1, y=w2, target=fixed(target))\n",
    "hbox = widgets.HBox(i.children)\n",
    "display(hbox)"
   ]
  },
  {
   "cell_type": "code",
   "execution_count": null,
   "id": "5669b0f3",
   "metadata": {
    "tags": [
     "remove-cell"
    ]
   },
   "outputs": [],
   "source": [
    "fig = plt.figure(figsize=(15, 65))\n",
    "\n",
    "def supress_category_label(lbl, size=10):\n",
    "    if not isinstance(lbl, str):\n",
    "        return lbl\n",
    "    if len(lbl) < size:\n",
    "        return lbl\n",
    "    return f\"{lbl[:size]}...\"\n",
    "\n",
    "for idx, var in enumerate(categorical, 1):\n",
    "    ax = fig.add_subplot(14, 3, idx)\n",
    "    data = df[[target, var]] \n",
    "    data[var] = data[var].apply(supress_category_label)\n",
    "   \n",
    "    mosaic_plot(data=data, x=target, y=var, ax=ax)\n",
    "\n",
    "fig.tight_layout()\n",
    "\n",
    "glue(\"categorical_mosaic_plot\", fig, display=False)"
   ]
  },
  {
   "cell_type": "markdown",
   "id": "d6436392",
   "metadata": {},
   "source": [
    "## Categórica\n",
    "```{glue:} categorical_mosaic_plot\n",
    "```\n",
    "```{glue:} categorical_relations\n",
    "```"
   ]
  },
  {
   "cell_type": "code",
   "execution_count": null,
   "id": "0bb19d88",
   "metadata": {
    "tags": [
     "remove-input"
    ]
   },
   "outputs": [],
   "source": [
    "w1, w2 = None, None\n",
    "\n",
    "if target:\n",
    "    cols_list = [target] + categorical \n",
    "    cols_list = list(OrderedDict.fromkeys(cols_list)) \n",
    "else:\n",
    "    cols_list = conf_dict['CategoricalColumns']\n",
    "    \n",
    "w1 = widgets.Dropdown(\n",
    "    options=cols_list,\n",
    "    value=cols_list[0],\n",
    "    description='Variável 1:'\n",
    ")\n",
    "w2 = widgets.Dropdown(\n",
    "    options=cols_list,\n",
    "    value=cols_list[1],\n",
    "    description='Variável 2:'\n",
    ")\n",
    "\n",
    "i = interactive(interactive_mosaic_plot, data=fixed(df), x=w1, y=w2)\n",
    "hbox = widgets.HBox(i.children)\n",
    "display(hbox)"
   ]
  },
  {
   "cell_type": "markdown",
   "id": "c8f6a996",
   "metadata": {},
   "source": [
    "## Numérica e Categórica"
   ]
  },
  {
   "cell_type": "code",
   "execution_count": null,
   "id": "177dbc72",
   "metadata": {
    "tags": [
     "remove-cell"
    ]
   },
   "outputs": [],
   "source": [
    "# TODO: Plotar relação entre variaveis numéricas e categóricas"
   ]
  },
  {
   "cell_type": "markdown",
   "id": "7308ae15",
   "metadata": {},
   "source": [
    "## Análise de Componentes Principais"
   ]
  },
  {
   "cell_type": "code",
   "execution_count": null,
   "id": "9e6b19a1",
   "metadata": {
    "tags": [
     "remove-cell"
    ]
   },
   "outputs": [],
   "source": [
    "# TODO: Utilizar PCA nas variáveis numéricas"
   ]
  }
 ],
 "metadata": {
  "jupytext": {
   "cell_metadata_filter": "-all",
   "main_language": "python",
   "notebook_metadata_filter": "-all"
  },
  "kernelspec": {
   "display_name": "Python 3 (ipykernel)",
   "language": "python",
   "name": "python3"
  },
  "language_info": {
   "codemirror_mode": {
    "name": "ipython",
    "version": 3
   },
   "file_extension": ".py",
   "mimetype": "text/x-python",
   "name": "python",
   "nbconvert_exporter": "python",
   "pygments_lexer": "ipython3",
   "version": "3.7.12"
  }
 },
 "nbformat": 4,
 "nbformat_minor": 5
}
