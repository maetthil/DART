{
 "cells": [
  {
   "cell_type": "markdown",
   "id": "2e53b704",
   "metadata": {},
   "source": [
    "# Resumo de Qualidade do Dado"
   ]
  },
  {
   "cell_type": "code",
   "execution_count": null,
   "id": "57b90c2a",
   "metadata": {
    "tags": [
     "hide-cell"
    ]
   },
   "outputs": [],
   "source": [
    "import sys\n",
    "import warnings\n",
    "sys.path.append('..')\n",
    "import seaborn as sns\n",
    "from myst_nb import glue\n",
    "from global_configurations import *\n",
    "\n",
    "warnings.filterwarnings('ignore')\n",
    "pd.set_option('display.max_colwidth', None)\n",
    "pd.set_option('display.max_columns', None)\n",
    "pd.set_option('display.max_rows', None)\n",
    "\n",
    "conf_dict = read_config_file(DATASET_INFO_PATH)\n",
    "df = read_dataset(conf_dict, DATASET_PATH)\n",
    "\n",
    "df, numerical, categorical, categorical_dt, datetime, target = infer_column_types(df, conf_dict)"
   ]
  },
  {
   "cell_type": "code",
   "execution_count": null,
   "id": "3bfd2d8b",
   "metadata": {
    "tags": [
     "hide-cell"
    ]
   },
   "outputs": [],
   "source": [
    "fig = plt.figure(figsize = (18,8))\n",
    "ax = sns.heatmap(df[numerical + categorical + [target]].isna(), yticklabels=150000, cbar=False)\n",
    "ax.set(title='Valores nulos por coluna')\n",
    "\n",
    "glue(\"missing_data_plot\", fig, display=False)"
   ]
  },
  {
   "cell_type": "code",
   "execution_count": null,
   "id": "609c133f",
   "metadata": {
    "tags": [
     "hide-cell"
    ]
   },
   "outputs": [],
   "source": [
    "data = df[numerical + categorical+ [target]].isna().sum()/df.shape[0]*100\n",
    "\n",
    "fig = plt.figure(figsize = (18,8))\n",
    "ax = sns.barplot(x='index', y=0, data=data.to_frame().reset_index())\n",
    "ax.set(xlabel='', ylabel='%', title='% de valores nulos por coluna')\n",
    "ax.tick_params(axis='x', rotation=90)\n",
    "ax.axhline(data.mean(), 0, 1, color='red', label=f'média={data.mean():.2f}%')\n",
    "ax.legend()\n",
    "\n",
    "glue(\"percent_missing_data_plot\", fig, display=False)"
   ]
  },
  {
   "cell_type": "code",
   "execution_count": null,
   "id": "3aae4eab",
   "metadata": {
    "tags": [
     "hide-cell"
    ]
   },
   "outputs": [],
   "source": [
    "has_na_values = ', '.join(data[data>0].index)\n",
    "\n",
    "glue(\"has_na_values\", has_na_values)"
   ]
  },
  {
   "cell_type": "markdown",
   "id": "4cb89a79",
   "metadata": {},
   "source": [
    "## Dados faltantes\n",
    "```{glue:figure} missing_data_plot\n",
    "\n",
    "Dados faltantes por coluna no conjunto de dados.\n",
    "```\n",
    "\n",
    "As variáveis **{glue:text}`has_na_values`** possuem valores nulos"
   ]
  },
  {
   "cell_type": "code",
   "execution_count": null,
   "id": "658b894b",
   "metadata": {
    "tags": [
     "hide-cell"
    ]
   },
   "outputs": [],
   "source": [
    "duplicated = df.duplicated().sum()\n",
    "\n",
    "glue(\"duplicated\", duplicated)"
   ]
  },
  {
   "cell_type": "markdown",
   "id": "8f9dc50f",
   "metadata": {},
   "source": [
    "## Linhas duplicadas\n",
    "Existem {glue:text}`duplicated` linhas duplicadas no geral"
   ]
  }
 ],
 "metadata": {
  "jupytext": {
   "cell_metadata_filter": "-all",
   "main_language": "python",
   "notebook_metadata_filter": "-all"
  },
  "kernelspec": {
   "display_name": "Python 3 (ipykernel)",
   "language": "python",
   "name": "python3"
  },
  "language_info": {
   "codemirror_mode": {
    "name": "ipython",
    "version": 3
   },
   "file_extension": ".py",
   "mimetype": "text/x-python",
   "name": "python",
   "nbconvert_exporter": "python",
   "pygments_lexer": "ipython3",
   "version": "3.7.12"
  }
 },
 "nbformat": 4,
 "nbformat_minor": 5
}
