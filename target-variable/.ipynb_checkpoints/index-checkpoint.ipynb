{
 "cells": [
  {
   "cell_type": "markdown",
   "id": "f2d96f3c",
   "metadata": {},
   "source": [
    "# Variável Alvo"
   ]
  },
  {
   "cell_type": "code",
   "execution_count": null,
   "id": "a0bd6ec7",
   "metadata": {
    "tags": [
     "remove-cell"
    ]
   },
   "outputs": [],
   "source": [
    "import sys\n",
    "import warnings\n",
    "sys.path.append('..')\n",
    "import seaborn as sns\n",
    "from myst_nb import glue\n",
    "from global_configurations import *\n",
    "\n",
    "warnings.filterwarnings('ignore')\n",
    "pd.set_option('display.max_colwidth', None)\n",
    "pd.set_option('display.max_columns', None)\n",
    "pd.set_option('display.max_rows', None)\n",
    "\n",
    "conf_dict = read_config_file(DATASET_INFO_PATH)\n",
    "df = read_dataset(conf_dict, DATASET_PATH)\n",
    "\n",
    "df, numerical, categorical, categorical_dt, datetime, target = infer_column_types(df, conf_dict)"
   ]
  },
  {
   "cell_type": "code",
   "execution_count": null,
   "id": "fe0fc482",
   "metadata": {
    "tags": [
     "remove-cell"
    ]
   },
   "outputs": [],
   "source": [
    "fig, axes = plt.subplots(1, 2, figsize=(12, 4))\n",
    "data = df[[target]].value_counts().reset_index()\n",
    "data = data.rename(columns={0: 'value'})\n",
    "\n",
    "sns.barplot(y='value', x=target, data=data, ax=axes[0])\n",
    "data.plot.pie(y=target, ax=axes[1], legend=True, autopct='%1.1f%%', \n",
    "              explode=(0, 0.1), shadow=True, startangle=0)\n",
    "\n",
    "glue(\"target_plot\", fig, display=False)"
   ]
  },
  {
   "cell_type": "markdown",
   "id": "d2b5159d",
   "metadata": {},
   "source": [
    "```{glue:figure} target_plot\n",
    "```"
   ]
  }
 ],
 "metadata": {
  "jupytext": {
   "cell_metadata_filter": "-all",
   "main_language": "python",
   "notebook_metadata_filter": "-all"
  },
  "kernelspec": {
   "display_name": "Python 3 (ipykernel)",
   "language": "python",
   "name": "python3"
  },
  "language_info": {
   "codemirror_mode": {
    "name": "ipython",
    "version": 3
   },
   "file_extension": ".py",
   "mimetype": "text/x-python",
   "name": "python",
   "nbconvert_exporter": "python",
   "pygments_lexer": "ipython3",
   "version": "3.7.12"
  }
 },
 "nbformat": 4,
 "nbformat_minor": 5
}
