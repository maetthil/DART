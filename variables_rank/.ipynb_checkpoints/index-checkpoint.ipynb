{
 "cells": [
  {
   "cell_type": "markdown",
   "id": "809bd5b0",
   "metadata": {},
   "source": [
    "# Classificação de Variáveis"
   ]
  },
  {
   "cell_type": "code",
   "execution_count": null,
   "id": "0c99da7c",
   "metadata": {
    "tags": [
     "remove-cell"
    ]
   },
   "outputs": [],
   "source": [
    "%%capture\n",
    "!pip install pingouin\n",
    "!pip install researchpy"
   ]
  },
  {
   "cell_type": "code",
   "execution_count": null,
   "id": "54b7d8d1",
   "metadata": {
    "tags": [
     "remove-cell"
    ]
   },
   "outputs": [],
   "source": [
    "import sys\n",
    "import warnings\n",
    "sys.path.append('..')\n",
    "import seaborn as sns\n",
    "import pingouin as pg\n",
    "import researchpy as rpy\n",
    "from myst_nb import glue\n",
    "from global_configurations import *\n",
    "\n",
    "warnings.filterwarnings('ignore')\n",
    "pd.set_option('display.max_colwidth', None)\n",
    "pd.set_option('display.max_columns', None)\n",
    "pd.set_option('display.max_rows', None)\n",
    "\n",
    "conf_dict = read_config_file(DATASET_INFO_PATH)\n",
    "df = read_dataset(conf_dict, DATASET_PATH)\n",
    "\n",
    "df, numerical, categorical, categorical_dt, datetime, target = infer_column_types(df, conf_dict)"
   ]
  },
  {
   "cell_type": "code",
   "execution_count": null,
   "id": "95b1751a",
   "metadata": {
    "tags": [
     "remove-cell"
    ]
   },
   "outputs": [],
   "source": [
    "eta_sq = {}\n",
    "for v in numerical:\n",
    "    aov = pg.anova(dv=v, between=target, data=df, detailed=True)\n",
    "    if 'np2' not in aov.columns:\n",
    "        eta_sq[v] = 0.0\n",
    "        continue\n",
    "    eta_sq[v] = aov['np2'][0]\n",
    "eta_sq = sorted(eta_sq.items(), key=operator.itemgetter(1), reverse=True)\n",
    "\n",
    "fig = plt.figure(figsize=(15, 5))\n",
    "ax = sns.barplot(x='Variável', y='Eta-Squared', data=pd.DataFrame(eta_sq, columns=['Variável', 'Eta-Squared']))\n",
    "ax.tick_params(axis='x', rotation=90)\n",
    "\n",
    "glue(\"numerical_eta_sq_plot\", fig, display=False)"
   ]
  },
  {
   "cell_type": "markdown",
   "id": "f0e3734c",
   "metadata": {},
   "source": [
    "## Top 40 variáveis numéricas com maior associação com o alvo\n",
    "```{glue:figure} numerical_eta_sq_plot\n",
    "```"
   ]
  },
  {
   "cell_type": "code",
   "execution_count": null,
   "id": "460f3820",
   "metadata": {
    "tags": [
     "remove-cell"
    ]
   },
   "outputs": [],
   "source": [
    "cramers_v = {}\n",
    "# TODO Identifier variables\n",
    "for var in categorical[3:]:\n",
    "    crosstab, res = rpy.crosstab(df[target], \n",
    "                                 df[var], test='chi-square')\n",
    "    cramers_v[var] = res['results'][2]\n",
    "cramers_v = sorted(cramers_v.items(), key=operator.itemgetter(1), reverse=True)\n",
    "\n",
    "fig = plt.figure(figsize=(15, 5))\n",
    "ax = sns.barplot(x='Variável', y='Cramers V', data=pd.DataFrame(cramers_v, columns=['Variável', 'Cramers V']).iloc[:40])\n",
    "ax.tick_params(axis='x', rotation=90)\n",
    "\n",
    "glue(\"categorical_cramers_v_plot\", fig, display=False)"
   ]
  },
  {
   "cell_type": "markdown",
   "id": "3febced2",
   "metadata": {},
   "source": [
    "## Top 40 variáveis categóricas com maior associação com o alvo\n",
    "```{glue:figure} categorical_cramers_v_plot\n",
    "```"
   ]
  }
 ],
 "metadata": {
  "jupytext": {
   "cell_metadata_filter": "-all",
   "main_language": "python",
   "notebook_metadata_filter": "-all"
  },
  "kernelspec": {
   "display_name": "Python 3 (ipykernel)",
   "language": "python",
   "name": "python3"
  },
  "language_info": {
   "codemirror_mode": {
    "name": "ipython",
    "version": 3
   },
   "file_extension": ".py",
   "mimetype": "text/x-python",
   "name": "python",
   "nbconvert_exporter": "python",
   "pygments_lexer": "ipython3",
   "version": "3.7.12"
  }
 },
 "nbformat": 4,
 "nbformat_minor": 5
}
