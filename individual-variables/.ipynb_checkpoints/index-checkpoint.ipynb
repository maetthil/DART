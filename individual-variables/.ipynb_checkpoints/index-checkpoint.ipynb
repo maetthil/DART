{
 "cells": [
  {
   "cell_type": "markdown",
   "id": "5129d1ef",
   "metadata": {},
   "source": [
    "# Variáveis Individuais"
   ]
  },
  {
   "cell_type": "code",
   "execution_count": null,
   "id": "07c7e0d3",
   "metadata": {
    "tags": [
     "remove-cell"
    ]
   },
   "outputs": [],
   "source": [
    "import sys\n",
    "import warnings\n",
    "sys.path.append('..')\n",
    "import seaborn as sns\n",
    "from myst_nb import glue\n",
    "from global_configurations import *\n",
    "\n",
    "warnings.filterwarnings('ignore')\n",
    "pd.set_option('display.max_colwidth', None)\n",
    "pd.set_option('display.max_columns', None)\n",
    "pd.set_option('display.max_rows', None)\n",
    "\n",
    "conf_dict = read_config_file(DATASET_INFO_PATH)\n",
    "df = read_dataset(conf_dict, DATASET_PATH)\n",
    "\n",
    "df, numerical, categorical, categorical_dt, datetime, target = infer_column_types(df, conf_dict)"
   ]
  },
  {
   "cell_type": "code",
   "execution_count": null,
   "id": "c5e42354",
   "metadata": {
    "tags": [
     "remove-cell"
    ]
   },
   "outputs": [],
   "source": [
    "numerical_stats = df[numerical].describe().T.sort_index()\n",
    "\n",
    "glue(\"numerical_stats\", numerical_stats)"
   ]
  },
  {
   "cell_type": "code",
   "execution_count": null,
   "id": "2570b6ae",
   "metadata": {
    "tags": [
     "remove-cell"
    ]
   },
   "outputs": [],
   "source": [
    "fig = plt.figure(figsize = (16, 7))\n",
    "\n",
    "for idx, var in enumerate(numerical, 1):\n",
    "    ax = fig.add_subplot(2, 4, idx)\n",
    "    sns.histplot(df[var], ax=ax, kde=True)\n",
    "    ax.set(ylabel='')\n",
    "    \n",
    "fig.suptitle('Histograma das variáveis numéricas')\n",
    "fig.tight_layout()\n",
    "\n",
    "glue(\"numerical_hist_plot\", fig, display=False)"
   ]
  },
  {
   "cell_type": "code",
   "execution_count": null,
   "id": "971f1dd9",
   "metadata": {
    "tags": [
     "remove-cell"
    ]
   },
   "outputs": [],
   "source": [
    "# TODO: QQPlot para variáveis numéricas"
   ]
  },
  {
   "cell_type": "code",
   "execution_count": null,
   "id": "bcdeb3dd",
   "metadata": {
    "tags": [
     "remove-cell"
    ]
   },
   "outputs": [],
   "source": [
    "fig = plt.figure(figsize = (16, 7))\n",
    "\n",
    "for idx, var in enumerate(numerical, 1):\n",
    "    ax = fig.add_subplot(2, 4, idx)\n",
    "    sns.boxplot(y=var, data=df[[var]], ax=ax, palette='flare')\n",
    "    ax.set(ylabel='', xlabel=var)\n",
    "    \n",
    "fig.suptitle('Boxplot das variáveis numéricas')\n",
    "fig.tight_layout()\n",
    "\n",
    "glue(\"numerical_box_plot\", fig, display=False)"
   ]
  },
  {
   "cell_type": "markdown",
   "id": "aab65d45",
   "metadata": {},
   "source": [
    "## Numéricas\n",
    "```{glue:figure} numerical_stats\n",
    "```\n",
    "```{glue:figure} numerical_hist_plot\n",
    "```"
   ]
  },
  {
   "cell_type": "code",
   "execution_count": null,
   "id": "7717fd8b",
   "metadata": {
    "tags": [
     "remove-cell"
    ]
   },
   "outputs": [],
   "source": [
    "fig = plt.figure(figsize=(10, 5))\n",
    "data = df[categorical].nunique().to_frame(name='Qtd')\n",
    "data = data.reset_index().sort_values(by='Qtd', ascending=False)\n",
    "\n",
    "ax = sns.barplot(y='Qtd', x='index', data=data)\n",
    "ax.set(xlabel='', title='Quantidade de valores únicos (categorias)')\n",
    "ax.tick_params(axis='x', rotation=90)\n",
    "\n",
    "glue(\"categorical_unique_plot\", fig, display=False)"
   ]
  },
  {
   "cell_type": "code",
   "execution_count": null,
   "id": "996a769e",
   "metadata": {
    "tags": [
     "remove-cell"
    ]
   },
   "outputs": [],
   "source": [
    "fig = plt.figure(figsize=(15, 35))\n",
    "\n",
    "for idx, var in enumerate(categorical, 1):\n",
    "    ax = fig.add_subplot(10, 4, idx)\n",
    "    data = df[var].value_counts()[:10]\n",
    "    data = data.to_frame().reset_index()\n",
    "    data.columns = ['categoria', 'qtd']\n",
    "    data.categoria = data.categoria.apply(lambda x: f\"{x[:15]}...\" if isinstance(x, str) else x)\n",
    "    \n",
    "    sns.barplot(x='categoria', y='qtd', data=data, ax=ax)\n",
    "    ax.set_xticklabels(ax.get_xticklabels(), rotation = 90)\n",
    "    ax.set(xlabel=\"\", title=var)\n",
    "    \n",
    "fig.suptitle('Top 10 categorias por variável', y=1)    \n",
    "fig.tight_layout()\n",
    "\n",
    "glue(\"categorical_top_categories_plot\", fig, display=False)"
   ]
  },
  {
   "cell_type": "markdown",
   "id": "d5af3cba",
   "metadata": {},
   "source": [
    "## Categóricas\n",
    "```{glue:figure} categorical_unique_plot\n",
    "```\n",
    "```{glue:figure} categorical_top_categories_plot\n",
    "```"
   ]
  },
  {
   "cell_type": "code",
   "execution_count": null,
   "id": "61094e92",
   "metadata": {
    "tags": [
     "remove-cell"
    ]
   },
   "outputs": [],
   "source": [
    "categorical_year = list(get_datetime_var_names(datetime, 'year'))\n",
    "categorical_month = list(get_datetime_var_names(datetime, 'month'))\n",
    "categorical_week_number = list(get_datetime_var_names(datetime, 'week_number'))\n",
    "categorical_day = list(get_datetime_var_names(datetime, 'day'))\n",
    "categorical_day_week = list(get_datetime_var_names(datetime, 'day_week'))\n",
    "categorical_hour = list(get_datetime_var_names(datetime, 'hour'))\n",
    "categorical_minute = list(get_datetime_var_names(datetime, 'minute'))\n",
    "categorical_second = list(get_datetime_var_names(datetime, 'second'))"
   ]
  },
  {
   "cell_type": "markdown",
   "id": "e9f6d683",
   "metadata": {},
   "source": [
    "## Data"
   ]
  },
  {
   "cell_type": "code",
   "execution_count": null,
   "id": "c07ee16c",
   "metadata": {
    "tags": [
     "remove-cell"
    ]
   },
   "outputs": [],
   "source": [
    "fig = plt.figure(figsize=(15, 8))\n",
    "\n",
    "for idx, var in enumerate(categorical_year, 1):\n",
    "    ax = fig.add_subplot(3, 4, idx)\n",
    "    data = df[var].value_counts()\n",
    "    data = data.to_frame().reset_index()\n",
    "    data.columns = ['categoria', 'qtd']\n",
    "    \n",
    "    sns.barplot(x='categoria', y='qtd', data=data, ax=ax, palette='flare')\n",
    "    ax.set_xticklabels(ax.get_xticklabels(), rotation = 90)\n",
    "    ax.set(xlabel=\"\", title=var)\n",
    "\n",
    "fig.tight_layout()\n",
    "\n",
    "glue(\"categoricaldt_year_plot\", fig, display=False)"
   ]
  },
  {
   "cell_type": "markdown",
   "id": "de596913",
   "metadata": {},
   "source": [
    "### Ano\n",
    "```{glue:figure} categoricaldt_year_plot\n",
    "```"
   ]
  },
  {
   "cell_type": "code",
   "execution_count": null,
   "id": "d5993044",
   "metadata": {
    "tags": [
     "remove-cell"
    ]
   },
   "outputs": [],
   "source": [
    "fig = plt.figure(figsize=(15, 7))\n",
    "\n",
    "for idx, var in enumerate(categorical_month, 1):\n",
    "    ax = fig.add_subplot(3, 4, idx)\n",
    "    data = df[var].value_counts()\n",
    "    data = data.to_frame().reset_index()\n",
    "    data.columns = ['categoria', 'qtd']\n",
    "    \n",
    "    sns.barplot(x='categoria', y='qtd', data=data, ax=ax, palette='flare')\n",
    "    ax.set(xlabel=\"\", title=var)\n",
    "\n",
    "fig.tight_layout()\n",
    "\n",
    "glue(\"categoricaldt_month_plot\", fig, display=False)"
   ]
  },
  {
   "cell_type": "markdown",
   "id": "22cc0132",
   "metadata": {},
   "source": [
    "### Mês\n",
    "```{glue:figure} categoricaldt_month_plot\n",
    "```"
   ]
  },
  {
   "cell_type": "code",
   "execution_count": null,
   "id": "80d1886f",
   "metadata": {
    "tags": [
     "remove-cell"
    ]
   },
   "outputs": [],
   "source": [
    "fig = plt.figure(figsize=(15, 7))\n",
    "\n",
    "for idx, var in enumerate(categorical_week_number, 1):\n",
    "    ax = fig.add_subplot(3, 4, idx)\n",
    "    data = df[var].value_counts()\n",
    "    data = data.to_frame().reset_index()\n",
    "    data.columns = ['categoria', 'qtd']\n",
    "    \n",
    "    sns.barplot(x='categoria', y='qtd', data=data, ax=ax, palette='flare')\n",
    "    ax.set(xlabel=\"\", title=var)\n",
    "\n",
    "fig.tight_layout()\n",
    "\n",
    "glue(\"categoricaldt_week_plot\", fig, display=False)"
   ]
  },
  {
   "cell_type": "markdown",
   "id": "16e4a7bd",
   "metadata": {},
   "source": [
    "### Semana\n",
    "```{glue:figure} categoricaldt_week_plot\n",
    "```"
   ]
  },
  {
   "cell_type": "code",
   "execution_count": null,
   "id": "0b2f8c1c",
   "metadata": {
    "tags": [
     "remove-cell"
    ]
   },
   "outputs": [],
   "source": [
    "fig = plt.figure(figsize=(15, 7))\n",
    "\n",
    "for idx, var in enumerate(categorical_day, 1):\n",
    "    ax = fig.add_subplot(3, 4, idx)\n",
    "    data = df[var].value_counts()\n",
    "    data = data.to_frame().reset_index()\n",
    "    data.columns = ['categoria', 'qtd']\n",
    "    \n",
    "    sns.barplot(x='categoria', y='qtd', data=data, ax=ax, palette='flare')\n",
    "    ax.set(xlabel=\"\", title=var)\n",
    "\n",
    "fig.tight_layout()\n",
    "\n",
    "glue(\"categoricaldt_day_plot\", fig, display=False)"
   ]
  },
  {
   "cell_type": "markdown",
   "id": "f760c61c",
   "metadata": {},
   "source": [
    "### Dia\n",
    "```{glue:figure} categoricaldt_day_plot\n",
    "```"
   ]
  },
  {
   "cell_type": "code",
   "execution_count": null,
   "id": "65a4be69",
   "metadata": {
    "tags": [
     "remove-cell"
    ]
   },
   "outputs": [],
   "source": [
    "fig = plt.figure(figsize=(15, 7))\n",
    "\n",
    "for idx, var in enumerate(categorical_day_week, 1):\n",
    "    ax = fig.add_subplot(3, 4, idx)\n",
    "    data = df[var].value_counts()\n",
    "    data = data.to_frame().reset_index()\n",
    "    data.columns = ['categoria', 'qtd']\n",
    "    \n",
    "    sns.barplot(x='categoria', y='qtd', data=data, ax=ax, palette='flare')\n",
    "    ax.set(xlabel=\"\", title=var)\n",
    "\n",
    "fig.tight_layout()\n",
    "\n",
    "glue(\"categoricaldt_week_day_plot\", fig, display=False)"
   ]
  },
  {
   "cell_type": "markdown",
   "id": "42c7e834",
   "metadata": {},
   "source": [
    "### Dia da Semana\n",
    "```{glue:figure} categoricaldt_week_day_plot\n",
    "```"
   ]
  },
  {
   "cell_type": "code",
   "execution_count": null,
   "id": "6a0363a8",
   "metadata": {
    "tags": [
     "remove-cell"
    ]
   },
   "outputs": [],
   "source": [
    "fig = plt.figure(figsize=(15, 7))\n",
    "\n",
    "for idx, var in enumerate(categorical_hour, 1):\n",
    "    ax = fig.add_subplot(3, 4, idx)\n",
    "    data = df[var].value_counts()\n",
    "    data = data.to_frame().reset_index()\n",
    "    data.columns = ['categoria', 'qtd']\n",
    "    \n",
    "    sns.barplot(x='categoria', y='qtd', data=data, ax=ax, palette='flare')\n",
    "    ax.set(xlabel=\"\", title=var)\n",
    "\n",
    "fig.tight_layout()\n",
    "\n",
    "glue(\"categoricaldt_hour_plot\", fig, display=False)"
   ]
  },
  {
   "cell_type": "markdown",
   "id": "9bb2db5d",
   "metadata": {},
   "source": [
    "### Hora\n",
    "```{glue:figure} categoricaldt_hour_plot\n",
    "```"
   ]
  },
  {
   "cell_type": "code",
   "execution_count": null,
   "id": "4a68e52e",
   "metadata": {
    "tags": [
     "remove-cell"
    ]
   },
   "outputs": [],
   "source": [
    "fig = plt.figure(figsize=(15, 7))\n",
    "\n",
    "for idx, var in enumerate(categorical_minute, 1):\n",
    "    ax = fig.add_subplot(3, 4, idx)\n",
    "    data = df[var].value_counts()\n",
    "    data = data.to_frame().reset_index()\n",
    "    data.columns = ['categoria', 'qtd']\n",
    "    \n",
    "    sns.barplot(x='categoria', y='qtd', data=data, ax=ax, palette='flare')\n",
    "    ax.set(xlabel=\"\", title=var)\n",
    "\n",
    "fig.tight_layout()\n",
    "\n",
    "glue(\"categoricaldt_minute_plot\", fig, display=False)"
   ]
  },
  {
   "cell_type": "markdown",
   "id": "f759cba6",
   "metadata": {},
   "source": [
    "### Minuto\n",
    "```{glue:figure} categoricaldt_minute_plot\n",
    "```"
   ]
  },
  {
   "cell_type": "code",
   "execution_count": null,
   "id": "b8f6a080",
   "metadata": {
    "tags": [
     "remove-cell"
    ]
   },
   "outputs": [],
   "source": [
    "fig = plt.figure(figsize=(15, 7))\n",
    "\n",
    "for idx, var in enumerate(categorical_second, 1):\n",
    "    ax = fig.add_subplot(3, 4, idx)\n",
    "    data = df[var].value_counts()\n",
    "    data = data.to_frame().reset_index()\n",
    "    data.columns = ['categoria', 'qtd']\n",
    "    \n",
    "    sns.barplot(x='categoria', y='qtd', data=data, ax=ax, palette='flare')\n",
    "    ax.set(xlabel=\"\", title=var)\n",
    "\n",
    "fig.tight_layout()\n",
    "\n",
    "glue(\"categoricaldt_week_second_plot\", fig, display=False)"
   ]
  },
  {
   "cell_type": "markdown",
   "id": "67a2077a",
   "metadata": {},
   "source": [
    "### Segundo\n",
    "```{glue:figure} categoricaldt_week_second_plot\n",
    "```\n",
    "\n"
   ]
  }
 ],
 "metadata": {
  "jupytext": {
   "cell_metadata_filter": "-all",
   "main_language": "python",
   "notebook_metadata_filter": "-all"
  },
  "kernelspec": {
   "display_name": "Python 3 (ipykernel)",
   "language": "python",
   "name": "python3"
  },
  "language_info": {
   "codemirror_mode": {
    "name": "ipython",
    "version": 3
   },
   "file_extension": ".py",
   "mimetype": "text/x-python",
   "name": "python",
   "nbconvert_exporter": "python",
   "pygments_lexer": "ipython3",
   "version": "3.7.12"
  }
 },
 "nbformat": 4,
 "nbformat_minor": 5
}
